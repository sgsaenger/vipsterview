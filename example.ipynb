{
 "cells": [
  {
   "cell_type": "code",
   "execution_count": 1,
   "metadata": {},
   "outputs": [],
   "source": [
    "import vipster as vp\n",
    "from vipsterview import vpWidget"
   ]
  },
  {
   "cell_type": "code",
   "execution_count": 2,
   "metadata": {},
   "outputs": [],
   "source": [
    "m,_,_ = vp.readFile('example.json')"
   ]
  },
  {
   "cell_type": "code",
   "execution_count": 3,
   "metadata": {},
   "outputs": [
    {
     "data": {
      "application/vnd.jupyter.widget-view+json": {
       "model_id": "58e800adfbbe4c39b5aa00c1f9ff6a39",
       "version_major": 2,
       "version_minor": 0
      },
      "text/plain": [
       "vpWidget(mol=(<vipster.Molecule object at 0x7fc256d72e30>, 6))"
      ]
     },
     "metadata": {},
     "output_type": "display_data"
    }
   ],
   "source": [
    "vpWidget(mol=m)"
   ]
  }
 ],
 "metadata": {
  "kernelspec": {
   "display_name": "Python 3",
   "language": "python",
   "name": "python3"
  },
  "language_info": {
   "codemirror_mode": {
    "name": "ipython",
    "version": 3
   },
   "file_extension": ".py",
   "mimetype": "text/x-python",
   "name": "python",
   "nbconvert_exporter": "python",
   "pygments_lexer": "ipython3",
   "version": "3.8.3"
  },
  "toc": {
   "base_numbering": 1,
   "nav_menu": {},
   "number_sections": true,
   "sideBar": true,
   "skip_h1_title": false,
   "title_cell": "Table of Contents",
   "title_sidebar": "Contents",
   "toc_cell": false,
   "toc_position": {},
   "toc_section_display": true,
   "toc_window_display": false
  },
  "widgets": {
   "application/vnd.jupyter.widget-state+json": {
    "state": {
     "58e800adfbbe4c39b5aa00c1f9ff6a39": {
      "model_module": "@jupyter-widgets/base",
      "model_module_version": "1.2.0",
      "model_name": "DOMWidgetModel",
      "state": {
       "_model_name": "DOMWidgetModel",
       "_view_module": "vipster-js-widget",
       "_view_module_version": "0.1.2",
       "_view_name": "VipsterView",
       "layout": "IPY_MODEL_72ac81d887f94b0ea43ae37420902a1e",
       "mol": "{\"step\": \"[{\\\"atoms\\\":[{\\\"coord\\\":[-0.756,-0.591,0.0],\\\"name\\\":\\\"H\\\"},{\\\"coord\\\":[0.0,0.0,0.0],\\\"name\\\":\\\"O\\\"},{\\\"coord\\\":[0.756,-0.591,0.0],\\\"name\\\":\\\"H\\\"}],\\\"bonds\\\":[],\\\"fmt\\\":\\\"angstrom\\\"}]\", \"idx\": 6, \"len\": 7}"
      }
     },
     "72ac81d887f94b0ea43ae37420902a1e": {
      "model_module": "@jupyter-widgets/base",
      "model_module_version": "1.2.0",
      "model_name": "LayoutModel",
      "state": {}
     }
    },
    "version_major": 2,
    "version_minor": 0
   }
  }
 },
 "nbformat": 4,
 "nbformat_minor": 4
}
